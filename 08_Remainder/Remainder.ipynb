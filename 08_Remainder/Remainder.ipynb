{
 "cells": [
  {
   "cell_type": "code",
   "id": "40f73521",
   "metadata": {
    "ExecuteTime": {
     "end_time": "2024-07-31T03:46:04.473502Z",
     "start_time": "2024-07-31T03:46:04.468611Z"
    }
   },
   "source": [
    "def extended_gcd(a, b):\n",
    "    \"\"\"\n",
    "    扩展欧几里得算法，用于求解 ax + by = gcd(a, b) 的整数解\n",
    "    :param a: 整数\n",
    "    :param b: 整数\n",
    "    :return: (gcd(a, b), x, y)\n",
    "    \"\"\"\n",
    "    if b == 0:\n",
    "        return a, 1, 0\n",
    "    else:\n",
    "        d, x, y = extended_gcd(b, a % b)\n",
    "        return d, y, x - (a // b) * y\n",
    "\n",
    "def chinese_remainder_theorem(congruences):\n",
    "    \"\"\"\n",
    "    中国剩余定理求解函数\n",
    "    :param congruences: 模线性同余方程组，格式为 [(a1, m1), (a2, m2), ..., (an, mn)]，表示方程组为 x ≡ ai (mod mi)\n",
    "    :return: 方程组的解 x\n",
    "    \"\"\"\n",
    "    # 计算模数的乘积 M\n",
    "    M = 1\n",
    "    for _, mi in congruences:\n",
    "        M *= mi\n",
    "\n",
    "    # 计算 Mi 和 Mi 的模逆元素\n",
    "    M_values = [M // mi for _, mi in congruences]\n",
    "    inverse_values = [extended_gcd(Mi, mi)[1] % mi for Mi, (_, mi) in zip(M_values, congruences)]\n",
    "\n",
    "    # 计算解 x\n",
    "    x = sum(ai * Mi * inverse for (ai, mi), Mi, inverse in zip(congruences, M_values, inverse_values)) % M\n",
    "\n",
    "    return x\n",
    "\n",
    "# 示例：解 x ≡ 2 (mod 3), x ≡ 3 (mod 5), x ≡ 2 (mod 7)\n",
    "congruences = [(2, 3), (3, 5), (2, 7)]\n",
    "solution = chinese_remainder_theorem(congruences)\n",
    "M_product = 1\n",
    "for _, mi in congruences:\n",
    "    M_product *= mi\n",
    "\n",
    "print(f\"同余方程组的解为 x ≡ {solution} (mod {M_product})\")\n",
    "# 输出: 同余方程组的解为 x ≡ 23 (mod 105)"
   ],
   "outputs": [
    {
     "name": "stdout",
     "output_type": "stream",
     "text": [
      "同余方程组的解为 x ≡ 23 (mod 105)\n"
     ]
    }
   ],
   "execution_count": 1
  },
  {
   "cell_type": "code",
   "execution_count": null,
   "id": "9f3af462",
   "metadata": {},
   "outputs": [],
   "source": []
  }
 ],
 "metadata": {
  "kernelspec": {
   "display_name": "Python 3 (ipykernel)",
   "language": "python",
   "name": "python3"
  },
  "language_info": {
   "codemirror_mode": {
    "name": "ipython",
    "version": 3
   },
   "file_extension": ".py",
   "mimetype": "text/x-python",
   "name": "python",
   "nbconvert_exporter": "python",
   "pygments_lexer": "ipython3",
   "version": "3.7.7"
  }
 },
 "nbformat": 4,
 "nbformat_minor": 5
}

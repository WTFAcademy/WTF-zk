{
 "cells": [
  {
   "cell_type": "code",
   "execution_count": 1,
   "id": "04791372",
   "metadata": {},
   "outputs": [
    {
     "data": {
      "text/plain": [
       "(7, 8)"
      ]
     },
     "execution_count": 1,
     "metadata": {},
     "output_type": "execute_result"
    }
   ],
   "source": [
    "from sympy import mod_inverse\n",
    "\n",
    "# Redefine the parameters of the elliptic curve and the point P\n",
    "p = 13\n",
    "a = -1\n",
    "b = 1\n",
    "P = (0, 1)\n",
    "\n",
    "# Define point addition and point doubling operations on the elliptic curve\n",
    "# Define addition operation\n",
    "def elliptic_curve_addition(P, Q, a, p):\n",
    "    if P == ('inf', 'inf'):\n",
    "        return Q\n",
    "    if Q == ('inf', 'inf'):\n",
    "        return P\n",
    "    if P[0] == Q[0] and (P[1] != Q[1] or P[1] == 0):\n",
    "        # P + Q = O (infinity) if they are vertically symmetric or P is a tangent point\n",
    "        return ('inf', 'inf')\n",
    "    if P == Q:\n",
    "        # Point doubling\n",
    "        lambda_ = (3 * P[0]**2 + a) * mod_inverse(2 * P[1], p) % p\n",
    "    else:\n",
    "        # Point addition\n",
    "        lambda_ = (Q[1] - P[1]) * mod_inverse(Q[0] - P[0], p) % p\n",
    "\n",
    "    x3 = (lambda_**2 - P[0] - Q[0]) % p\n",
    "    y3 = (lambda_ * (P[0] - x3) - P[1]) % p\n",
    "\n",
    "    return (x3, y3)\n",
    "\n",
    "def ecc_double_and_add(P, k, a, p):\n",
    "    \"\"\"Double-And-Add algorithm for scalar multiplication on elliptic curves.\"\"\"\n",
    "    result = ('inf', 'inf')  # Infinity\n",
    "    addend = P\n",
    "\n",
    "    while k:\n",
    "        if k & 1:\n",
    "            result = elliptic_curve_addition(result, addend, a, p)\n",
    "        addend = elliptic_curve_addition(addend, addend, a, p)\n",
    "        k >>= 1\n",
    "    return result\n",
    "\n",
    "# Test the Double-And-Add algorithm\n",
    "# Choose a scalar k = 9 for scalar multiplication testing\n",
    "k = 9\n",
    "result = ecc_double_and_add(P, k, a, p)\n",
    "\n",
    "result\n",
    "# (7, 8)\n"
   ]
  },
  {
   "cell_type": "code",
   "execution_count": 2,
   "id": "a3a9123c",
   "metadata": {},
   "outputs": [
    {
     "name": "stdout",
     "output_type": "stream",
     "text": [
      "Order of point P: 19\n"
     ]
    }
   ],
   "source": [
    "# Order of point\n",
    "def find_order_of_point(P, a, p):\n",
    "    S = P\n",
    "    n = 1\n",
    "    while S != ('inf', 'inf'):  # ('inf', 'inf') 是无穷远点\n",
    "        S = elliptic_curve_addition(S, P, a, p)\n",
    "        n += 1\n",
    "    return n\n",
    "\n",
    "# calculate order of point\n",
    "order = find_order_of_point(P, a, p)\n",
    "print(f\"Order of point P: {order}\")\n"
   ]
  },
  {
   "cell_type": "code",
   "execution_count": 3,
   "id": "4cd0319a",
   "metadata": {},
   "outputs": [
    {
     "name": "stdout",
     "output_type": "stream",
     "text": [
      "Private Key: 123456789\n",
      "Public Key: (4051293998585674784991639592782214972820158391371785981004352359465450369227, 88166831356626186178414913298033275054086243781277878360288998796587140930350)\n"
     ]
    }
   ],
   "source": [
    "# Elliptic Curve secp256k1 Example\n",
    "# Generate public key from private key using scalar multiplication\n",
    "from py_ecc.secp256k1 import secp256k1\n",
    "\n",
    "def generate_public_key(private_key):\n",
    "    \"\"\"\n",
    "    Generate the public key using the secp256k1 elliptic curve from the given private key.\n",
    "    \n",
    "    Args:\n",
    "    private_key (int): The private key, a large integer.\n",
    "    \n",
    "    Returns:\n",
    "    (int, int): The public key, a point on the elliptic curve.\n",
    "    \"\"\"\n",
    "    # Base point of secp256k1\n",
    "    G = secp256k1.G\n",
    "    \n",
    "    # Calculate the public key\n",
    "    public_key = secp256k1.multiply(G, private_key)\n",
    "    \n",
    "    return public_key\n",
    "\n",
    "# Example: Using a random private key\n",
    "private_key = 123456789  # In practice, the private key should be a randomly generated large integer, e.g., private_key = int(os.urandom(32).hex(), 16)\n",
    "\n",
    "# Generate the public key\n",
    "public_key = generate_public_key(private_key)\n",
    "\n",
    "# Print the results\n",
    "print(f\"Private Key: {private_key}\")\n",
    "print(f\"Public Key: {public_key}\")\n",
    "\n",
    "# Output\n",
    "# Private Key: 123456789\n",
    "# Public Key: (4051293998585674784991639592782214972820158391371785981004352359465450369227, 88166831356626186178414913298033275054086243781277878360288998796587140930350)\n"
   ]
  },
  {
   "cell_type": "code",
   "execution_count": null,
   "id": "27df043e",
   "metadata": {},
   "outputs": [],
   "source": []
  }
 ],
 "metadata": {
  "kernelspec": {
   "display_name": "Python 3 (ipykernel)",
   "language": "python",
   "name": "python3"
  },
  "language_info": {
   "codemirror_mode": {
    "name": "ipython",
    "version": 3
   },
   "file_extension": ".py",
   "mimetype": "text/x-python",
   "name": "python",
   "nbconvert_exporter": "python",
   "pygments_lexer": "ipython3",
   "version": "3.7.7"
  }
 },
 "nbformat": 4,
 "nbformat_minor": 5
}

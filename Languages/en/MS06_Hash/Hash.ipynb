{
 "cells": [
  {
   "cell_type": "code",
   "execution_count": 1,
   "id": "1cfc195a",
   "metadata": {},
   "outputs": [
    {
     "name": "stdout",
     "output_type": "stream",
     "text": [
      "Hash of 'apple': 3a7bd3e2360a3d29eea436fcfb7e44c735d117c42d1c1835420b6b9942dd4f1b\n",
      "Hash of 'apples': f5903f51e341a783e69ffc2d9b335048716f5f040a782a2764cd4e728b0f74d9\n",
      "Hash of 'zpple': 2d198bd02ab5e8a7260f50db5dea5672c03151c3febcf3d2ec129263d4f299bd\n"
     ]
    }
   ],
   "source": [
    "# Hash function: SHA256\n",
    "from hashlib import sha256\n",
    "\n",
    "def get_hash(message_string):\n",
    "    return sha256(message_string.encode('utf-8')).hexdigest()\n",
    "\n",
    "print(\"Hash of 'apple':\", get_hash(\"apple\"))\n",
    "print(\"Hash of 'apples':\", get_hash(\"apples\"))\n",
    "print(\"Hash of 'zpple':\", get_hash(\"zpple\"))\n",
    "\n",
    "# Output:\n",
    "# Hash of 'apple': 3a7bd3e2360a3d29eea436fcfb7e44c735d117c42d1c1835420b6b9942dd4f1b\n",
    "# Hash of 'apples': f5903f51e341a783e69ffc2d9b335048716f5f040a782a2764cd4e728b0f74d9\n",
    "# Hash of 'zpple': 2d198bd02ab5e8a7260f50db5dea5672c03151c3febcf3d2ec129263d4f299bd\n"
   ]
  },
  {
   "cell_type": "code",
   "execution_count": 2,
   "id": "a54a4b03",
   "metadata": {},
   "outputs": [
    {
     "name": "stdout",
     "output_type": "stream",
     "text": [
      "Point on secp256k1 curve: (75672206050705717597513752332592681441562708170391675094677140490692301502235, 2079954378639550643990441934946533201466680551826647417569849183466717633402)\n"
     ]
    }
   ],
   "source": [
    "# Hash to curve\n",
    "# Try-and-Increment method\n",
    "\n",
    "from hashlib import sha256\n",
    "from py_ecc.secp256k1 import secp256k1\n",
    "\n",
    "def hash_to_curve_try_and_increment(message):\n",
    "    # Counter\n",
    "    counter = 0\n",
    "    while True:\n",
    "        # Compute the hash of the message and the counter\n",
    "        data = message + counter.to_bytes(32, 'big')\n",
    "        hash_digest = sha256(data).digest()\n",
    "\n",
    "        # Calculate the x-coordinate from the hash\n",
    "        x = int.from_bytes(hash_digest, 'big') % secp256k1.P\n",
    "\n",
    "        # Try to calculate y^2 using the elliptic curve equation y^2 = x^3 + ax + b\n",
    "        y_squared = (pow(x, 3, secp256k1.P) + secp256k1.A * x + secp256k1.B) % secp256k1.P\n",
    "        \n",
    "        # Calculate the square root of y^2 modulo p, if it exists (for secp256k1, p % 4 = 3, this method can be used)\n",
    "        y = pow(y_squared, (secp256k1.P + 1) // 4, secp256k1.P)\n",
    "\n",
    "        # If y^2 = y_squared, then y^2 is a quadratic residue, (x, y) is a point on the elliptic curve, return it\n",
    "        # Otherwise, increment the counter c by 1 and try again\n",
    "        if pow(y, 2, secp256k1.P) == y_squared:\n",
    "\n",
    "            # y^2 has two square roots y and -y, we use the last bit of the hash to determine the sign of y\n",
    "            sign_bit = hash_digest[-1] & 1\n",
    "            if sign_bit == 1:\n",
    "                y = secp256k1.P - y  # Use -y\n",
    "\n",
    "            return (x, y)\n",
    "\n",
    "        counter += 1\n",
    "\n",
    "# Example\n",
    "message = 'Example message'.encode('utf-8')\n",
    "point_on_curve = hash_to_curve_try_and_increment(message)\n",
    "print(f\"Point on secp256k1 curve: {point_on_curve}\")\n",
    "\n",
    "# Output:\n",
    "# Point on secp256k1 curve: (75672206050705717597513752332592681441562708170391675094677140490692301502235, 2079954378639550643990441934946533201466680551826647417569849183466717633402)\n"
   ]
  },
  {
   "cell_type": "code",
   "execution_count": 3,
   "id": "fd451b19",
   "metadata": {},
   "outputs": [
    {
     "name": "stdout",
     "output_type": "stream",
     "text": [
      "Random number r: 91532787645296465305977546857153060360042718695392396756112438925549267677625\n",
      "Pedersen hash: (33207901400245673317772404642820378824040002129405689006696541902994587356526, 92276320545487270630584006967742200532131477233818169189560270074605054126669)\n"
     ]
    }
   ],
   "source": [
    "from py_ecc.secp256k1 import secp256k1\n",
    "import os\n",
    "\n",
    "def pedersen_hash(G, P, m, r):\n",
    "    \"\"\"\n",
    "    Calculate the Pedersen hash using two points G and P on secp256k1.\n",
    "    :param G: The generator point on secp256k1.\n",
    "    :param P: The point obtained through hash-to-curve.\n",
    "    :param m: The message.\n",
    "    :param r: The random number.\n",
    "    :return: The Pedersen hash as a point on the secp256k1 curve.\n",
    "    \"\"\"\n",
    "    hash_point = secp256k1.add(secp256k1.multiply(G, m), secp256k1.multiply(P, r))\n",
    "    return hash_point\n",
    "\n",
    "def message_to_int(message):\n",
    "    \"\"\"Convert the message to an integer.\"\"\"\n",
    "    message_hash = sha256(message.encode('utf-8')).digest()\n",
    "    return int.from_bytes(message_hash, 'big')\n",
    "\n",
    "# Example\n",
    "G = secp256k1.G\n",
    "P = (75672206050705717597513752332592681441562708170391675094677140490692301502235, 2079954378639550643990441934946533201466680551826647417569849183466717633402)\n",
    "m = message_to_int('Example message')\n",
    "r = int.from_bytes(os.urandom(32), 'big') % secp256k1.N  # Random blinding factor\n",
    "print(f\"Random number r: {r}\")\n",
    "# Output:\n",
    "# Random number r: 73024396533133913522992000700997978493545300935845156062873113842229351634806\n",
    "\n",
    "hash_point = pedersen_hash(G, P, m, r)\n",
    "print(f\"Pedersen hash: {hash_point}\")\n",
    "# Output:\n",
    "# Pedersen hash: (61158186220483422500680232915115660637414963516696475985433668859480078549697, 19925636506537717141567615179623096875787300022679479682581994441236159884610)\n"
   ]
  },
  {
   "cell_type": "code",
   "execution_count": null,
   "id": "22553cbd",
   "metadata": {},
   "outputs": [],
   "source": []
  }
 ],
 "metadata": {
  "kernelspec": {
   "display_name": "Python 3 (ipykernel)",
   "language": "python",
   "name": "python3"
  },
  "language_info": {
   "codemirror_mode": {
    "name": "ipython",
    "version": 3
   },
   "file_extension": ".py",
   "mimetype": "text/x-python",
   "name": "python",
   "nbconvert_exporter": "python",
   "pygments_lexer": "ipython3",
   "version": "3.7.7"
  }
 },
 "nbformat": 4,
 "nbformat_minor": 5
}
